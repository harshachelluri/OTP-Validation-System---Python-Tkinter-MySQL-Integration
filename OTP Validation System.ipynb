{
 "cells": [
  {
   "cell_type": "markdown",
   "metadata": {},
   "source": [
    "# OTP Generation and Verification System\n",
    "\n",
    "This project aims to implement an OTP (One-Time Password) generation, verification, and validation system that integrates with a MySQL database and performs the following tasks:\n",
    "- Generates a random 6-digit OTP.\n",
    "- Simulates sending the OTP to a user's email address.\n",
    "- Allows the user to input the OTP and verifies if the entered OTP is correct.\n",
    "- Handles retry attempts in case of incorrect OTP entries.\n",
    "- Logs OTP details (email, IP address, and country) to a MySQL database.\n",
    "\n",
    "## Libraries Required\n",
    "We will use the following libraries:\n",
    "- `random`: For generating random OTP.\n",
    "- `re`: To validate email format.\n",
    "- `mysql.connector`: For database interaction.\n",
    "- `requests`: To retrieve IP address and country information.\n",
    "\n",
    "Let's begin by importing the necessary libraries.\n"
   ]
  },
  {
   "cell_type": "code",
   "execution_count": 40,
   "metadata": {},
   "outputs": [],
   "source": [
    "# Import required libraries\n",
    "import random\n",
    "import re\n",
    "import mysql.connector\n",
    "from mysql.connector import Error\n",
    "import requests\n"
   ]
  },
  {
   "cell_type": "markdown",
   "metadata": {},
   "source": [
    "## Connecting to MySQL Database\n",
    "\n",
    "The table schema should be as follows:\n",
    "```sql\n",
    "CREATE TABLE otp_table (\n",
    "    email VARCHAR(255) PRIMARY KEY,\n",
    "    otp VARCHAR(6),\n",
    "    ip_address VARCHAR(50),\n",
    "    country VARCHAR(50),\n",
    "    otp_generated_time TIMESTAMP DEFAULT CURRENT_TIMESTAMP\n",
    ");\n"
   ]
  },
  {
   "cell_type": "code",
   "execution_count": 41,
   "metadata": {},
   "outputs": [],
   "source": [
    "# Function to connect to MySQL\n",
    "def connect_to_mysql():\n",
    "    try:\n",
    "        connection = mysql.connector.connect(\n",
    "            host=\"localhost\",        \n",
    "            user=\"root\",             \n",
    "            password=\"Harsha@159\",  \n",
    "            database=\"otp_db\"        # Database name\n",
    "        )\n",
    "        if connection.is_connected():\n",
    "            print(\"Connected to MySQL database\")\n",
    "            return connection\n",
    "    except Error as e:\n",
    "        print(f\"Error: {e}\")\n",
    "        return None\n"
   ]
  },
  {
   "cell_type": "markdown",
   "metadata": {},
   "source": [
    "## OTP Generation\n",
    "\n",
    "We will now implement a function `generate_otp()` that generates a 6-digit OTP randomly.\n"
   ]
  },
  {
   "cell_type": "code",
   "execution_count": 42,
   "metadata": {},
   "outputs": [],
   "source": [
    "# Function to generate a 6-digit OTP\n",
    "def generate_otp():\n",
    "    otp = ''.join([str(random.randint(0, 9)) for _ in range(6)])\n",
    "    return otp\n"
   ]
  },
  {
   "cell_type": "markdown",
   "metadata": {},
   "source": [
    "## Email Validation\n",
    "\n",
    "Next, we need to validate the email address input by the user.\n"
   ]
  },
  {
   "cell_type": "code",
   "execution_count": 43,
   "metadata": {},
   "outputs": [],
   "source": [
    "# Function to validate email format using regex\n",
    "def is_valid_email(email):\n",
    "    pattern = r'^[a-zA-Z0-9_.+-]+@[a-zA-Z0-9-]+\\.[a-zA-Z0-9-.]+$'\n",
    "    return re.match(pattern, email) is not None\n"
   ]
  },
  {
   "cell_type": "markdown",
   "metadata": {},
   "source": [
    "## Retrieving User's IP Address and Country\n",
    "\n",
    "To store more information about the OTP request, we will retrieve the user's IP address and country based on their IP address.\n",
    "\n",
    "We'll use the `requests` library to fetch this information.\n",
    "\n",
    "### Steps:\n",
    "1. **Get IP Address**: Use the `httpbin.org` service to get the public IP.\n",
    "2. **Get Country**: Use the `ipinfo.io` service to get the country based on the IP.\n"
   ]
  },
  {
   "cell_type": "code",
   "execution_count": 44,
   "metadata": {},
   "outputs": [],
   "source": [
    "# Function to get the user's IP address\n",
    "def get_ip_address():\n",
    "    response = requests.get(\"https://httpbin.org/ip\")\n",
    "    ip_info = response.json()\n",
    "    return ip_info['origin']\n",
    "\n",
    "# Function to get the country from IP address using ipinfo.io API\n",
    "def get_country_from_ip(ip):\n",
    "    url = f\"http://ipinfo.io/{ip}/json\"\n",
    "    response = requests.get(url)\n",
    "    data = response.json()\n",
    "    return data.get(\"country\", \"Unknown\")\n"
   ]
  },
  {
   "cell_type": "markdown",
   "metadata": {},
   "source": [
    "## Storing OTP in the MySQL Database\n",
    "\n",
    "Now we need a function `store_otp_in_db()` that will store the generated OTP along with the email address, IP address, and country in the MySQL database.\n",
    "\n",
    "This function will insert a new record or update the existing record if the email already exists in the database.\n",
    "\n"
   ]
  },
  {
   "cell_type": "code",
   "execution_count": 45,
   "metadata": {},
   "outputs": [],
   "source": [
    "# Function to store OTP in the MySQL database\n",
    "def store_otp_in_db(email, otp):\n",
    "    ip_address = get_ip_address()\n",
    "    country = get_country_from_ip(ip_address)\n",
    "    \n",
    "    connection = None\n",
    "    try:\n",
    "        connection = connect_to_mysql()\n",
    "        if connection:\n",
    "            cursor = connection.cursor()\n",
    "            # Insert or update OTP, IP address, and country for the email\n",
    "            query = \"\"\"\n",
    "                INSERT INTO otp_table (email, otp, ip_address, country)\n",
    "                VALUES (%s, %s, %s, %s)\n",
    "                ON DUPLICATE KEY UPDATE otp = %s, otp_generated_time = CURRENT_TIMESTAMP, ip_address = %s, country = %s\n",
    "            \"\"\"\n",
    "            cursor.execute(query, (email, otp, ip_address, country, otp, ip_address, country))\n",
    "            connection.commit()\n",
    "            print(f\"OTP for {email} stored in database with IP: {ip_address} and Country: {country}.\")\n",
    "    except Error as e:\n",
    "        print(f\"Error: {e}\")\n",
    "    finally:\n",
    "        if connection:\n",
    "            connection.close()\n"
   ]
  },
  {
   "cell_type": "markdown",
   "metadata": {},
   "source": [
    "## Verifying OTP from the Database\n",
    "\n",
    "The function `verify_otp_from_db()` will verify if the OTP entered by the user matches the OTP stored in the database for that email address.\n",
    "\n",
    "If the OTP is correct, the user is granted access. If the OTP is incorrect, the user can retry."
   ]
  },
  {
   "cell_type": "code",
   "execution_count": 46,
   "metadata": {},
   "outputs": [],
   "source": [
    "# Function to verify OTP from the MySQL database\n",
    "def verify_otp_from_db(email, entered_otp):\n",
    "    connection = None\n",
    "    try:\n",
    "        connection = connect_to_mysql()\n",
    "        if connection:\n",
    "            cursor = connection.cursor()\n",
    "            query = \"SELECT otp FROM otp_table WHERE email = %s\"\n",
    "            cursor.execute(query, (email,))\n",
    "            stored_otp = cursor.fetchone()\n",
    "\n",
    "            if stored_otp and stored_otp[0] == entered_otp:\n",
    "                print(\"OTP verified successfully. Access granted!\")\n",
    "                new_otp = generate_otp()\n",
    "                store_otp_in_db(email, new_otp)  # Store the new OTP\n",
    "                return True\n",
    "            else:\n",
    "                print(\"Incorrect OTP. Try again.\")\n",
    "                return False\n",
    "    except Error as e:\n",
    "        print(f\"Error: {e}\")\n",
    "        return False\n",
    "    finally:\n",
    "        if connection:\n",
    "            connection.close()\n"
   ]
  },
  {
   "cell_type": "markdown",
   "metadata": {},
   "source": [
    "use otp_db  \n",
    "\n",
    "    SELECT * FROM otp_table;\n",
    "\n",
    "truncate otp_table; \n",
    "\n",
    "drop table  otp_table;  \n"
   ]
  },
  {
   "cell_type": "markdown",
   "metadata": {},
   "source": [
    "## Main Function\n",
    "\n",
    "Now, we can implement the main function `main()` which will tie everything together. This function will:\n",
    "- Prompt the user for their email.\n",
    "- Generate and store the OTP.\n",
    "- Allow the user to enter the OTP and verify it.\n",
    "\n",
    "The user will have a maximum of 3 attempts to enter the correct OTP.\n"
   ]
  },
  {
   "cell_type": "markdown",
   "metadata": {},
   "source": [
    "# OTP Generation and Verification (Tkinter GUI)"
   ]
  },
  {
   "cell_type": "code",
   "execution_count": 47,
   "metadata": {},
   "outputs": [],
   "source": [
    "import tkinter as tk\n",
    "class OTPApp:\n",
    "    def __init__(self, root):\n",
    "        self.root = root\n",
    "        self.root.title(\"OTP Verification System\")\n",
    "\n",
    "        # Font size configuration\n",
    "        font_config = ('Arial', 14)  # Set base font size for widgets\n",
    "\n",
    "        # Email input\n",
    "        self.email_label = tk.Label(root, text=\"Enter your email:\", font=font_config)\n",
    "        self.email_label.pack(pady=5)\n",
    "        self.email_entry = tk.Entry(root, width=30, font=font_config)\n",
    "        self.email_entry.pack(pady=5)\n",
    "\n",
    "        # Generate OTP button\n",
    "        self.generate_button = tk.Button(root, text=\"Generate OTP\", command=self.generate_otp, font=font_config)\n",
    "        self.generate_button.pack(pady=10)\n",
    "\n",
    "        # OTP input\n",
    "        self.otp_label = tk.Label(root, text=\"Enter OTP:\", font=font_config)\n",
    "        self.otp_label.pack(pady=5)\n",
    "        self.otp_entry = tk.Entry(root, width=30, font=font_config)\n",
    "        self.otp_entry.pack(pady=5)\n",
    "\n",
    "        # Submit button\n",
    "        self.submit_button = tk.Button(root, text=\"Submit OTP\", command=self.submit_otp, font=font_config)\n",
    "        self.submit_button.pack(pady=10)\n",
    "\n",
    "        # Message area\n",
    "        self.message_label = tk.Label(root, text=\"\", fg=\"red\", font=('Arial', 16))\n",
    "        self.message_label.pack(pady=10)\n",
    "\n",
    "        # Store OTP for verification\n",
    "        self.generated_otp = None\n",
    "        self.attempts_left = 3  # Tracks number of attempts left\n",
    "\n",
    "    def generate_otp(self):\n",
    "        email = self.email_entry.get()\n",
    "\n",
    "        if not is_valid_email(email):\n",
    "            self.show_message(\"Invalid email address. Please enter a valid one.\", \"red\")\n",
    "            return\n",
    "\n",
    "        # Generate OTP\n",
    "        self.generated_otp = generate_otp()\n",
    "\n",
    "        # Store OTP in the \"database\"\n",
    "        store_otp_in_db(email, self.generated_otp)\n",
    "\n",
    "        # Show OTP in a custom pop-up message box\n",
    "        self.show_custom_message(f\"Your OTP is: {self.generated_otp}\")\n",
    "\n",
    "        # Update message label\n",
    "        self.show_message(f\"OTP generated and stored for {email}. Please check your email.\", \"green\")\n",
    "\n",
    "        # Reset the number of attempts\n",
    "        self.attempts_left = 3\n",
    "\n",
    "    def submit_otp(self):\n",
    "        email = self.email_entry.get()\n",
    "        entered_otp = self.otp_entry.get()\n",
    "\n",
    "        if not is_valid_email(email):\n",
    "            self.show_message(\"Invalid email address. Please enter a valid one.\", \"red\")\n",
    "            return\n",
    "\n",
    "        if self.attempts_left > 0:\n",
    "            # Verify OTP from the database\n",
    "            if verify_otp_from_db(email, entered_otp):\n",
    "                self.show_message(\"OTP verified successfully. Access granted.\", \"green\")\n",
    "                self.attempts_left = 3  # Reset attempts on successful verification\n",
    "            else:\n",
    "                self.attempts_left -= 1\n",
    "                if self.attempts_left == 0:\n",
    "                    self.show_message(\"Maximum attempts reached. Access denied.\", \"red\")\n",
    "                    self.submit_button.config(state=tk.DISABLED)  # Disable the submit button after max attempts\n",
    "                else:\n",
    "                    self.show_message(f\"Incorrect OTP. {self.attempts_left} attempt(s) left.\", \"red\")\n",
    "        else:\n",
    "            self.show_message(\"Access Denied. Please generate a new OTP.\", \"red\")\n",
    "\n",
    "    def show_message(self, message, color):\n",
    "        self.message_label.config(text=message, fg=color)\n",
    "\n",
    "    def show_custom_message(self, message):\n",
    "        # Create a custom pop-up window (Toplevel window)\n",
    "        popup = tk.Toplevel(self.root)\n",
    "        popup.title(\"Generated OTP\")\n",
    "\n",
    "        # Set a larger font size for the text\n",
    "        font_config = ('Arial', 18)\n",
    "        \n",
    "        # Add a label with the OTP message\n",
    "        otp_label = tk.Label(popup, text=message, font=font_config, padx=20, pady=20)\n",
    "        otp_label.pack()\n",
    "\n",
    "        # Add a button to close the pop-up window\n",
    "        close_button = tk.Button(popup, text=\"Close\", command=popup.destroy, font=('Arial', 14), padx=10, pady=5)\n",
    "        close_button.pack(pady=10)\n",
    "\n",
    "        # Set the dimensions of the pop-up window\n",
    "        popup.geometry(\"400x200\")  # You can adjust the size as needed\n",
    "\n",
    "# Run the application\n",
    "if __name__ == \"__main__\":\n",
    "    root = tk.Tk()\n",
    "    app = OTPApp(root)\n",
    "    root.mainloop()\n"
   ]
  },
  {
   "cell_type": "code",
   "execution_count": 48,
   "metadata": {},
   "outputs": [
    {
     "data": {
      "text/plain": [
       "'# Main function to handle OTP generation, storage, and verification\\ndef main():\\n    email_address = input(\"Enter your email address: \")\\n\\n    if not is_valid_email(email_address):\\n        print(\"Invalid email address. Please enter a valid one, like example@gmail.com\")\\n        return\\n\\n    generated_otp = generate_otp()\\n\\n    store_otp_in_db(email_address, generated_otp)\\n\\n    print(f\"Sending OTP to {email_address}...\")\\n    print(f\"Your OTP is: {generated_otp}\")\\n    print(\"Please use this OTP to complete your verification process.\")\\n\\n    max_attempts = 3\\n    attempts = 0\\n\\n    while attempts < max_attempts:\\n        entered_otp = input(\"Enter the OTP sent to your email: \")\\n        if verify_otp_from_db(email_address, entered_otp):\\n            print(\"OTP verified successfully. Access granted.\")\\n            break\\n        else:\\n            attempts += 1\\n            print(f\"Incorrect OTP. You have {max_attempts - attempts} attempts left.\")\\n\\n        if attempts == max_attempts:\\n            print(\"Maximum attempts reached. Access denied.\")\\n\\n# Run the main function\\nif __name__ == \"__main__\":\\n    main()'"
      ]
     },
     "execution_count": 48,
     "metadata": {},
     "output_type": "execute_result"
    }
   ],
   "source": [
    "\"\"\"# Main function to handle OTP generation, storage, and verification\n",
    "def main():\n",
    "    email_address = input(\"Enter your email address: \")\n",
    "\n",
    "    if not is_valid_email(email_address):\n",
    "        print(\"Invalid email address. Please enter a valid one, like example@gmail.com\")\n",
    "        return\n",
    "\n",
    "    generated_otp = generate_otp()\n",
    "\n",
    "    store_otp_in_db(email_address, generated_otp)\n",
    "\n",
    "    print(f\"Sending OTP to {email_address}...\")\n",
    "    print(f\"Your OTP is: {generated_otp}\")\n",
    "    print(\"Please use this OTP to complete your verification process.\")\n",
    "\n",
    "    max_attempts = 3\n",
    "    attempts = 0\n",
    "\n",
    "    while attempts < max_attempts:\n",
    "        entered_otp = input(\"Enter the OTP sent to your email: \")\n",
    "        if verify_otp_from_db(email_address, entered_otp):\n",
    "            print(\"OTP verified successfully. Access granted.\")\n",
    "            break\n",
    "        else:\n",
    "            attempts += 1\n",
    "            print(f\"Incorrect OTP. You have {max_attempts - attempts} attempts left.\")\n",
    "\n",
    "        if attempts == max_attempts:\n",
    "            print(\"Maximum attempts reached. Access denied.\")\n",
    "\n",
    "# Run the main function\n",
    "if __name__ == \"__main__\":\n",
    "    main()\"\"\"\n"
   ]
  }
 ],
 "metadata": {
  "kernelspec": {
   "display_name": "Python 3",
   "language": "python",
   "name": "python3"
  },
  "language_info": {
   "codemirror_mode": {
    "name": "ipython",
    "version": 3
   },
   "file_extension": ".py",
   "mimetype": "text/x-python",
   "name": "python",
   "nbconvert_exporter": "python",
   "pygments_lexer": "ipython3",
   "version": "3.11.4"
  }
 },
 "nbformat": 4,
 "nbformat_minor": 2
}
